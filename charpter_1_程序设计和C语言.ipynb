{
 "cells": [
  {
   "cell_type": "markdown",
   "metadata": {},
   "source": [
    "# 第一章 程序设计和C语言\n",
    "---\n",
    "## 1.1 什么是计算机程序\n",
    "---\n",
    "## 1.2 什么是计算机语言\n",
    "---\n",
    "### 1.2.1 计算机语言的发展\n",
    "- 机器语言\n",
    "```\n",
    "1011011100011101\n",
    "```\n",
    "- 符号语言（汇编语言, assemble, ASM）\n",
    "```asm\n",
    "add a, b\n",
    "```\n",
    "- 高级语言\n",
    "\n",
    "    下面是Fortran语言的代码\n",
    "```fortran\n",
    "a = a + b\n",
    "print *, sin(a)\n",
    "```\n",
    "---\n",
    "### 1.2.2 高级语言的发展\n",
    "- 非结构化\n",
    "- 结构化\n",
    "- 面向对象\n",
    "- 泛型\n",
    "---\n",
    "## 1.3 C语言的发展及其特点\n",
    "---\n",
    "### 1.3.1 C语言的主要特点\n",
    "- 语言简洁、紧凑，使用方便，灵活\n",
    "- 运算符丰富\n",
    "- 数据类型丰富\n",
    "- 具有结构化的控制语句，适合模块化的编程\n",
    "- 语法自由，程序设计自由度大\n",
    "- 允许直接访问物理地址，对硬件直接操作\n",
    "- 可移植性高\n",
    "- 目标代码质量高，程序执行效率高\n",
    "\n",
    "## 1.4 最简单的C语言程序\n",
    "---\n",
    "### 1.4.1 简单输出"
   ]
  },
  {
   "cell_type": "code",
   "execution_count": 2,
   "metadata": {},
   "outputs": [
    {
     "name": "stdout",
     "output_type": "stream",
     "text": [
      "Hello world!\n"
     ]
    }
   ],
   "source": [
    "/* 例1.1 */\n",
    "#include<stdio.h>\n",
    "int main()\n",
    "{\n",
    "    printf(\"Hello world!\\n\");\n",
    "    return 0;\n",
    "}"
   ]
  },
  {
   "cell_type": "code",
   "execution_count": 4,
   "metadata": {},
   "outputs": [
    {
     "name": "stdout",
     "output_type": "stream",
     "text": [
      "c=5.000000\n"
     ]
    }
   ],
   "source": [
    "/* 例1.2 勾股定理*/\n",
    "//%cflags:-lm\n",
    "#include<stdio.h>\n",
    "#include<math.h>\n",
    "int main()\n",
    "{\n",
    "    double a,b,c;\n",
    "    a=3;\n",
    "    b=4;\n",
    "    c=sqrt(a*a+b*b);\n",
    "    printf(\"c=%lf\\n\",c);\n",
    "    return 0;\n",
    "}"
   ]
  },
  {
   "cell_type": "code",
   "execution_count": 7,
   "metadata": {},
   "outputs": [
    {
     "name": "stdout",
     "output_type": "stream",
     "text": [
      "input 2 integer numbers:max value of (25,67) is 67\n"
     ]
    }
   ],
   "source": [
    "/* 例1.3 求两个整数的较大者 */\n",
    "#include<stdio.h>\n",
    "#include<string.h>\n",
    "\n",
    "int max2i(int x, int y);\n",
    "char *input_string=\"25,67\";\n",
    "\n",
    "int main()\n",
    "{\n",
    "    int a,b,c;\n",
    "    printf(\"input 2 integer numbers:\");\n",
    "    sscanf(input_string, \"%d,%d\", &a, &b);\n",
    "    c=max2i(a,b);\n",
    "    printf(\"max value of (%d,%d) is %d\\n\", a,b,c);\n",
    "    return 0;\n",
    "}\n",
    "int max2i(int x,int y)\n",
    "{\n",
    "    if(x>y)\n",
    "        return x;\n",
    "    else\n",
    "        return y;\n",
    "}"
   ]
  },
  {
   "cell_type": "code",
   "execution_count": null,
   "metadata": {},
   "outputs": [],
   "source": []
  }
 ],
 "metadata": {
  "kernelspec": {
   "display_name": "C",
   "language": "c",
   "name": "c"
  },
  "language_info": {
   "file_extension": ".c",
   "mimetype": "text/plain",
   "name": "c"
  }
 },
 "nbformat": 4,
 "nbformat_minor": 2
}
